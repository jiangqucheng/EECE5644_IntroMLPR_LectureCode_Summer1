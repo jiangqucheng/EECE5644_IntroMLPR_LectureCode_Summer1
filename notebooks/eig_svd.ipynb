{
 "cells": [
  {
   "cell_type": "markdown",
   "metadata": {},
   "source": [
    "# Matrix Factorization using EVD & SVD"
   ]
  },
  {
   "cell_type": "markdown",
   "metadata": {},
   "source": [
    "Let's first import the necessary modules for notebook:"
   ]
  },
  {
   "cell_type": "code",
   "execution_count": 1,
   "metadata": {},
   "outputs": [],
   "source": [
    "import matplotlib.pyplot as plt # For general plotting\n",
    "\n",
    "import numpy as np\n",
    "from numpy.linalg import eig # To compute eigenvalues/vectors\n",
    "\n",
    "# Suppress scientific notation\n",
    "np.set_printoptions(suppress=True)"
   ]
  },
  {
   "cell_type": "markdown",
   "metadata": {},
   "source": [
    "And define a utility function to plot vectors throughout this notebook:"
   ]
  },
  {
   "cell_type": "code",
   "execution_count": 2,
   "metadata": {},
   "outputs": [],
   "source": [
    "def plotVectors(vecs, colors, alpha=1):\n",
    "    \"\"\"\n",
    "    Plot set of vectors.\n",
    "\n",
    "    Parameters\n",
    "    ----------\n",
    "    vecs : array-like\n",
    "        Coordinates of the vectors to plot. Each vectors is in an array. For\n",
    "        instance: [[1, 3], [2, 2]] can be used to plot 2 vectors.\n",
    "    colors : array-like\n",
    "        Colors of the vectors. For instance: ['red', 'blue'] will display the\n",
    "        first vector in red and the second in blue.\n",
    "    alpha : float\n",
    "        Opacity of vectors\n",
    "\n",
    "    Returns:\n",
    "\n",
    "    fig : instance of matplotlib.figure.Figure\n",
    "        The figure of the vectors\n",
    "    \"\"\"\n",
    "    plt.figure()\n",
    "    plt.axvline(x=0, color='black', zorder=0)\n",
    "    plt.axhline(y=0, color='black', zorder=0)\n",
    "\n",
    "    # Iterate over vectors in list\n",
    "    for i in range(len(vecs)):\n",
    "        x = np.concatenate([[0,0],vecs[i]])\n",
    "\n",
    "        # Will plot arrows in 2D to represent vector from origin x[0] = x[1] = 0\n",
    "        plt.quiver([x[0]],\n",
    "                   [x[1]],\n",
    "                   [x[2]],\n",
    "                   [x[3]],\n",
    "                   angles='xy', scale_units='xy', scale=1, color=colors[i],\n",
    "                   alpha=alpha)"
   ]
  },
  {
   "cell_type": "markdown",
   "metadata": {},
   "source": [
    "Illustration of how this utility function can plot vectors as 2D arrows on a grid, say for vector:\n",
    "\n",
    "\\begin{equation}\n",
    "\\mathbf{u} = \n",
    "\\begin{bmatrix}\n",
    "3 \\\\\n",
    "-1\n",
    "\\end{bmatrix}\n",
    "\\end{equation}"
   ]
  },
  {
   "cell_type": "code",
   "execution_count": 3,
   "metadata": {},
   "outputs": [
    {
     "data": {
      "text/plain": [
       "(-3.0, 4.0)"
      ]
     },
     "execution_count": 3,
     "metadata": {},
     "output_type": "execute_result"
    },
    {
     "data": {
      "image/png": "[encoded data removed]",
      "text/plain": [
       "<Figure size 432x288 with 1 Axes>"
      ]
     },
     "metadata": {
      "needs_background": "light"
     },
     "output_type": "display_data"
    }
   ],
   "source": [
    "u = np.array([3, -1])\n",
    "\n",
    "plotVectors([u.flatten()], colors=['red'])\n",
    "# Limit range of axes\n",
    "plt.ylim(-5, 2)\n",
    "plt.xlim(-3, 4)"
   ]
  },
  {
   "cell_type": "markdown",
   "metadata": {},
   "source": [
    "What about if we apply a matrix:\n",
    "\n",
    "\\begin{equation}\n",
    "\\mathbf{A} = \n",
    "\\begin{bmatrix}\n",
    "0 & 1 \\\\\n",
    "-2 & -3\n",
    "\\end{bmatrix}\n",
    "\\end{equation}\n",
    "\n",
    "To the vector, acting as a linear transformation $\\mathbf{A}\\mathbf{u}$."
   ]
  },
  {
   "cell_type": "code",
   "execution_count": 4,
   "metadata": {},
   "outputs": [
    {
     "name": "stdout",
     "output_type": "stream",
     "text": [
      "A:\n",
      " [[ 0  1]\n",
      " [-2 -3]]\n",
      "Au:\n",
      " [-1 -3]\n"
     ]
    },
    {
     "data": {
      "text/plain": [
       "(-3.0, 4.0)"
      ]
     },
     "execution_count": 4,
     "metadata": {},
     "output_type": "execute_result"
    },
    {
     "data": {
      "image/png": "[encoded data removed]",
      "text/plain": [
       "<Figure size 432x288 with 1 Axes>"
      ]
     },
     "metadata": {
      "needs_background": "light"
     },
     "output_type": "display_data"
    }
   ],
   "source": [
    "A = np.array([[0, 1], [-2, -3]])\n",
    "print(\"A:\\n\", A)\n",
    "\n",
    "Au = A.dot(u)\n",
    "print(\"Au:\\n\", Au)\n",
    "\n",
    "plotVectors([u.flatten(), Au.flatten()], colors=['red', 'blue'])\n",
    "# Limit range of axes\n",
    "plt.ylim(-5, 2)\n",
    "plt.xlim(-3, 4)"
   ]
  },
  {
   "cell_type": "markdown",
   "metadata": {},
   "source": [
    "## Eigenvalue Decomposition (EVD)"
   ]
  },
  {
   "cell_type": "markdown",
   "metadata": {},
   "source": [
    "Recall that for a square matrix $\\mathbf{A} \\in \\mathbb{R}^{n \\times n}$, an <i>eigenvector</i> $\\mathbf{u} \\in \\mathbb{R}^n$ is a non-zero vector, $\\mathbf{u} \\neq \\mathbf{0}$, with a number $\\lambda \\in \\mathbb{R}$ such that:\n",
    "\n",
    "\\begin{equation}\n",
    "\\mathbf{A}\\mathbf{u} = \\lambda\\mathbf{u}\n",
    "\\end{equation}\n",
    "\n",
    "Where $\\lambda$ is known as the <i>eigenvalue</i> associated with the eigenvector $\\mathbf{u}$, and vice versa."
   ]
  },
  {
   "cell_type": "markdown",
   "metadata": {},
   "source": [
    "This equation can be re-written as:\n",
    "\n",
    "\\begin{equation}\n",
    "(\\mathbf{A} - \\lambda\\mathbf{I})\\mathbf{u} = \\mathbf{0}\n",
    "\\end{equation}\n",
    "\n",
    "Where the only non-zero solution $\\mathbf{u} \\neq \\mathbf{0}$ is iff $(\\mathbf{A} - \\lambda\\mathbf{I})$ is <i>singular</i>, i.e. $\\text{det}(\\mathbf{A} - \\lambda\\mathbf{I}) = 0$. This $\\text{det}(\\mathbf{A} - \\lambda\\mathbf{I}) = 0$ is a polynomial of degree $n$ in the variable $\\lambda$ and is known as the <i>characteristic polynomial/equation</i> of $\\mathbf{A}$. \n",
    "\n",
    "The $n$ solutions of the characteristic equation correspond to the $n$ pairs of eigenvalue-vectors ($\\lambda, \\mathbf{u}$)."
   ]
  },
  {
   "cell_type": "markdown",
   "metadata": {},
   "source": [
    "### Analytical Example of Nonsingular Real Matrix\n",
    "\n",
    "Applying EVD to our above-defined matrix:\n",
    "\n",
    "\\begin{equation}\n",
    "\\mathbf{A} = \n",
    "\\begin{bmatrix}\n",
    "0 & 1 \\\\\n",
    "-2 & -3\n",
    "\\end{bmatrix}\n",
    "\\end{equation}\n",
    "\n",
    "Such that:\n",
    "\n",
    "\\begin{equation}\n",
    "\\text{det}(\\mathbf{A} - \\lambda\\mathbf{I}) = \n",
    "\\text{det}\\Bigg(\n",
    "    \\begin{bmatrix}\n",
    "    0 & 1 \\\\\n",
    "    -2 & -3\n",
    "    \\end{bmatrix} \n",
    "    - \n",
    "    \\lambda \\begin{bmatrix}\n",
    "    1 & 0 \\\\\n",
    "    0 & 1\n",
    "    \\end{bmatrix}\n",
    "\\Bigg) =\n",
    "\\text{det}\n",
    "    \\begin{bmatrix}\n",
    "    -\\lambda & 1 \\\\\n",
    "    -2 & -3 - \\lambda\n",
    "    \\end{bmatrix} = - \\lambda(-3 - \\lambda) + 2 = \\lambda^2 + 3 \\lambda + 2 = 0\n",
    "\\end{equation}\n",
    "\n",
    "Therefore, by solving the equation we find eigenvalues: $\\lambda_1 = -1, \\lambda_2 = -2$.\n",
    "\n",
    "The first eigenvector can then be found by plugging in its corresponding eigenvalue, as follows:\n",
    "\n",
    "\\begin{equation}\n",
    "(\\mathbf{A} - \\lambda_1 \\mathbf{I})\\mathbf{u}_1 = \n",
    "    \\begin{bmatrix}\n",
    "    -\\lambda_1 & 1 \\\\\n",
    "    -2 & -3 -\\lambda_1\n",
    "    \\end{bmatrix} \\mathbf{u}_1 = \n",
    "    \\begin{bmatrix}\n",
    "    1 & 1 \\\\\n",
    "    -2 & -2\n",
    "    \\end{bmatrix} \\begin{bmatrix}u_{11} \\\\ u_{21} \\end{bmatrix} = \\mathbf{0}\n",
    "\\end{equation}\n",
    "\n",
    "Which if we solve for the equations, shows that $\\mathbf{u}_1$ is an $\\mathbb{R}^2$ vector with equal magnitude entries but opposite signs: \n",
    "\n",
    "\\begin{equation}\n",
    "\\mathbf{u}_1 = t_1 \\begin{bmatrix}1 \\\\ -1 \\end{bmatrix}\n",
    "\\end{equation}\n",
    "\n",
    "Where $t_1$ is an arbitrary constant, as we are primarily interested in the ratio between $u_{11}$ and $u_{21}$.\n",
    "\n",
    "Similarly, we find the second eigenvector:\n",
    "\n",
    "\\begin{equation}\n",
    "(\\mathbf{A} - \\lambda_2 \\mathbf{I})\\mathbf{u}_2 = \n",
    "    \\begin{bmatrix}\n",
    "    2 & 1 \\\\\n",
    "    -2 & -1\n",
    "    \\end{bmatrix} \\begin{bmatrix}u_{12} \\\\ u_{22} \\end{bmatrix} = \\mathbf{0} \\;\\; \\Rightarrow \\;\\; \\mathbf{u}_2 = t_2 \\begin{bmatrix}1 \\\\ -2 \\end{bmatrix}\n",
    "\\end{equation}"
   ]
  },
  {
   "cell_type": "markdown",
   "metadata": {},
   "source": [
    "### Code \n",
    "\n",
    "Before programmatically deriving the EVD, let's recall that we can diagonalize the matrix and write its spectral decomposition in matrix form given that $\\mathbf{A}^{-1}$ exists:\n",
    "\n",
    "\\begin{equation}\n",
    "\\mathbf{A} = \\mathbf{U}\\Lambda\\mathbf{U}^{-1}\n",
    "\\end{equation}\n",
    "\n",
    "The following code exemplifies that relation, using the analytical EVD result from above:"
   ]
  },
  {
   "cell_type": "code",
   "execution_count": 5,
   "metadata": {},
   "outputs": [
    {
     "name": "stdout",
     "output_type": "stream",
     "text": [
      "Eigenvector matrix:\n",
      " [[ 1  1]\n",
      " [-1 -2]]\n",
      "Diag matrix, Lambda:\n",
      " [[-1  0]\n",
      " [ 0 -2]]\n",
      "Inverse eigenvector matrix:\n",
      " [[ 2.  1.]\n",
      " [-1. -1.]]\n",
      "A original:\n",
      " [[ 0  1]\n",
      " [-2 -3]]\n",
      "A diagonalized:\n",
      " [[ 0.  1.]\n",
      " [-2. -3.]]\n"
     ]
    }
   ],
   "source": [
    "# Eigenvalues/vectors computed above\n",
    "u1 = np.array([1, -1])\n",
    "u2 = np.array([1, -2])\n",
    "lambdas = np.array([-1, -2])\n",
    "\n",
    "# Write in matrix form\n",
    "U = np.column_stack([u1, u2]) # Column vectors stacked into matrix\n",
    "Lambda = np.diag(lambdas)\n",
    "U_inv = np.linalg.inv(U) # Compute inverse of eigenvector matrix U\n",
    "print(\"Eigenvector matrix:\\n\", U)\n",
    "print(\"Diag matrix, Lambda:\\n\", Lambda)\n",
    "print(\"Inverse eigenvector matrix:\\n\", U_inv)\n",
    "      \n",
    "# Let's see what our diagnolized A result is:\n",
    "A_diag_test = U.dot(Lambda).dot(U_inv)\n",
    "print(\"A original:\\n\", A)\n",
    "print(\"A diagonalized:\\n\", A_diag_test)"
   ]
  },
  {
   "cell_type": "markdown",
   "metadata": {},
   "source": [
    "Notice that the expression $\\mathbf{U}\\Lambda\\mathbf{U}^{-1}$ consisting of eigenvalue/vector matrices leads to, as we expect, our original matrix $\\mathbf{A}$. Given the two eigenvectors contained within $\\mathbf{U}$, namely $\\mathbf{u}_1$ and $\\mathbf{u}_2$, let's see what transforming these special vectors by matrix $\\mathbf{A}$ looks like graphically:"
   ]
  },
  {
   "cell_type": "code",
   "execution_count": 6,
   "metadata": {},
   "outputs": [
    {
     "data": {
      "text/plain": [
       "(-3.0, 4.0)"
      ]
     },
     "execution_count": 6,
     "metadata": {},
     "output_type": "execute_result"
    },
    {
     "data": {
      "image/png": "[encoded data removed]",
      "text/plain": [
       "<Figure size 432x288 with 1 Axes>"
      ]
     },
     "metadata": {
      "needs_background": "light"
     },
     "output_type": "display_data"
    },
    {
     "data": {
      "image/png": "[encoded data removed]",
      "text/plain": [
       "<Figure size 432x288 with 1 Axes>"
      ]
     },
     "metadata": {
      "needs_background": "light"
     },
     "output_type": "display_data"
    }
   ],
   "source": [
    "Au1 = A.dot(u1)\n",
    "Au2 = A.dot(u2)\n",
    "\n",
    "plotVectors([u1.flatten(), Au1.flatten()], colors=['red', 'blue'])\n",
    "plt.ylim(-2, 3)\n",
    "plt.xlim(-2, 2)\n",
    "plotVectors([u2.flatten(), Au2.flatten()], colors=['green', 'orange'])\n",
    "# Limit range of axes\n",
    "plt.ylim(-3, 5)\n",
    "plt.xlim(-3, 4)"
   ]
  },
  {
   "cell_type": "markdown",
   "metadata": {},
   "source": [
    "Intuitively, applying $\\mathbf{A}$ to an eigenvector $\\mathbf{u}$ therefore give us a vector with the same direction! With only a new scale factor $\\lambda$ introduced. In this case, both our scale factors $\\lambda_1 = -1, \\lambda_2 = -2$ are negative and so applying the matrix to the corresponding eigenvectors does not change the vector's direction, but does reverse the direction.\n",
    "\n"
   ]
  },
  {
   "cell_type": "markdown",
   "metadata": {},
   "source": [
    "NOW let's tackle deriving the eigenvectors in Python. NumPy is a powerful and prevalent Python library for numerical processing of multi-dimensional arrays and matrices. Ergo, it ofcourse has an EVD function for square matrices: `linalg.eig(a)`, which is part of the Linear Algebra (LA) collection of functions."
   ]
  },
  {
   "cell_type": "markdown",
   "metadata": {},
   "source": [
    "We can compute the eigenvalue-vector pairs as above using `linalg.eig`:"
   ]
  },
  {
   "cell_type": "code",
   "execution_count": 7,
   "metadata": {},
   "outputs": [
    {
     "name": "stdout",
     "output_type": "stream",
     "text": [
      "Eigenvalues:\n",
      " [-1. -2.]\n",
      "Eigenvector matrix:\n",
      " [[ 0.70710678 -0.4472136 ]\n",
      " [-0.70710678  0.89442719]]\n"
     ]
    }
   ],
   "source": [
    "lambdas, U = eig(A)\n",
    "print(\"Eigenvalues:\\n\", lambdas)\n",
    "print(\"Eigenvector matrix:\\n\", U)"
   ]
  },
  {
   "cell_type": "markdown",
   "metadata": {},
   "source": [
    "Note that the eigenvalues $\\lambda_1$ and $\\lambda_2$ are as we derived, however the eigenvectors (printed above as a matrix $\\mathbf{U}$) are instead:\n",
    "\n",
    "\\begin{equation}\n",
    "    \\mathbf{u}_1 = \\begin{bmatrix}\\frac{1}{\\sqrt{2}} \\\\ -\\frac{1}{\\sqrt{2}} \\end{bmatrix}, \\;\n",
    "    \\mathbf{u}_2 = \\begin{bmatrix}-\\frac{1}{\\sqrt{5}} \\\\ \\frac{2}{\\sqrt{5}} \\end{bmatrix}\n",
    "\\end{equation}\n",
    "\n",
    "Which is because NumPy provides the normalized (unit “length”) eigenvectors, i.e. $||\\mathbf{u}||_2 = 1$. \n",
    "\n",
    "As mentioned earlier, we are only interested in the ratio between eigenvector entries and so difference scaling does not affect the $\\mathbf{A}\\mathbf{u} = \\lambda \\mathbf{u}$ property. For instance, $\\mathbf{u}_2$ obtained using `linalg.eig` has switched signs from our analytical derivation. See below for plots to illustrate that this won't affect the result."
   ]
  },
  {
   "cell_type": "code",
   "execution_count": 8,
   "metadata": {},
   "outputs": [
    {
     "data": {
      "text/plain": [
       "(-2.0, 2.0)"
      ]
     },
     "execution_count": 8,
     "metadata": {},
     "output_type": "execute_result"
    },
    {
     "data": {
      "image/png": "[encoded data removed]",
      "text/plain": [
       "<Figure size 432x288 with 1 Axes>"
      ]
     },
     "metadata": {
      "needs_background": "light"
     },
     "output_type": "display_data"
    },
    {
     "data": {
      "image/png": "[encoded data removed]",
      "text/plain": [
       "<Figure size 432x288 with 1 Axes>"
      ]
     },
     "metadata": {
      "needs_background": "light"
     },
     "output_type": "display_data"
    }
   ],
   "source": [
    "u1 = U[:, 0]\n",
    "u2 = U[:, 1] # Slicing to return columns\n",
    "Au1 = A.dot(u1)\n",
    "Au2 = A.dot(u2)\n",
    "\n",
    "plotVectors([u1.flatten(), Au1.flatten()], colors=['red', 'blue'])\n",
    "plt.ylim(-2, 2)\n",
    "plt.xlim(-2, 2)\n",
    "plotVectors([u2.flatten(), Au2.flatten()], colors=['green', 'orange'])\n",
    "# Limit range of axes\n",
    "plt.ylim(-2, 2)\n",
    "plt.xlim(-2, 2)"
   ]
  },
  {
   "cell_type": "markdown",
   "metadata": {},
   "source": [
    "See how the red and green eigenvectors are normalized $||\\mathbf{u}||_2 = 1$, and how applying the $\\mathbf{A}$ linear transformation results in $\\lambda$ scaled versions of the vectors. As both $\\lambda < 0$, the resulting transformation produces a vector in the opposite direction of the original eigenvector."
   ]
  },
  {
   "cell_type": "markdown",
   "metadata": {},
   "source": [
    "### Real Symmetric Matrix Example"
   ]
  },
  {
   "cell_type": "markdown",
   "metadata": {},
   "source": [
    "What about a real <b>symmetric</b> matrix, $\\mathbf{B} = \\mathbf{B}^\\intercal$? Let's go through the same process as before, but for:\n",
    "\n",
    "\\begin{equation}\n",
    "\\mathbf{B} = \n",
    "\\begin{bmatrix}\n",
    "0 & 1 \\\\\n",
    "1 & -3\n",
    "\\end{bmatrix}\n",
    "\\end{equation}\n",
    "\n",
    "Remembering that when $\\mathbf{B} = \\mathbf{B}^\\intercal$, then the eigenvectors are <b>orthonormal</b> (normalized orthogonal vectors) and so the matrix of the eigenvectors for $\\mathbf{B}$, written as $\\mathbf{U}$ like above, is <b>orthogonal</b>. We also know that for orthogonal matrices, the following relation holds:\n",
    "\n",
    "\\begin{equation}\n",
    "\\mathbf{U}^\\intercal \\mathbf{U} = \\mathbf{I} = \\mathbf{U} \\mathbf{U}^\\intercal\n",
    "\\end{equation}\n",
    "\n",
    "Where $\\mathbf{I}$ is the identity matrix. As a result, we can rearrange above to demonstrate:\n",
    "\n",
    "\\begin{equation}\n",
    "\\mathbf{U}^\\intercal \\mathbf{U} = \\mathbf{I} \\implies \\mathbf{U}^\\intercal = \\mathbf{I} \\mathbf{U}^{-1} \\implies \\mathbf{U}^\\intercal = \\mathbf{U}^{-1}\n",
    "\\end{equation}\n",
    "\n",
    "Allowing us finally to write the \"diagonlization\" of $\\mathbf{B}$ as:\n",
    "\n",
    "\\begin{equation}\n",
    "\\mathbf{B} = \\mathbf{U}\\Lambda\\mathbf{U}^\\intercal\n",
    "\\end{equation}\n",
    "\n",
    "Let's test this in code:"
   ]
  },
  {
   "cell_type": "code",
   "execution_count": 9,
   "metadata": {},
   "outputs": [
    {
     "name": "stdout",
     "output_type": "stream",
     "text": [
      "Lambda:\n",
      " [[ 0.30277564  0.        ]\n",
      " [ 0.         -3.30277564]]\n",
      "B original:\n",
      " [[ 0  1]\n",
      " [ 1 -3]]\n",
      "B diagonalized:\n",
      " [[-0.  1.]\n",
      " [ 1. -3.]]\n"
     ]
    }
   ],
   "source": [
    "B = np.array([[0, 1], [1, -3]])\n",
    "\n",
    "lambdas, U = eig(B)\n",
    "Lambda = np.diag(lambdas)\n",
    "\n",
    "print(\"Lambda:\\n\", Lambda)\n",
    "\n",
    "# Let's see what our diagnolized b result is:\n",
    "B_diag_test = U.dot(Lambda).dot(U.T) # NOTE: Took transpose U, not inverse, hence U.T\n",
    "print(\"B original:\\n\", B)\n",
    "print(\"B diagonalized:\\n\", B_diag_test)"
   ]
  },
  {
   "cell_type": "markdown",
   "metadata": {},
   "source": [
    "And as plots:"
   ]
  },
  {
   "cell_type": "code",
   "execution_count": 10,
   "metadata": {},
   "outputs": [
    {
     "data": {
      "text/plain": [
       "(-1.0, 3.0)"
      ]
     },
     "execution_count": 10,
     "metadata": {},
     "output_type": "execute_result"
    },
    {
     "data": {
      "image/png": "[encoded data removed]",
      "text/plain": [
       "<Figure size 432x288 with 1 Axes>"
      ]
     },
     "metadata": {
      "needs_background": "light"
     },
     "output_type": "display_data"
    },
    {
     "data": {
      "image/png": "[encoded data removed]",
      "text/plain": [
       "<Figure size 432x288 with 1 Axes>"
      ]
     },
     "metadata": {
      "needs_background": "light"
     },
     "output_type": "display_data"
    }
   ],
   "source": [
    "u1 = U[:, 0]\n",
    "u2 = U[:, 1] # Slicing to return columns\n",
    "Bu1 = B.dot(u1)\n",
    "Bu2 = B.dot(u2)\n",
    "\n",
    "plotVectors([u1.flatten(), Bu1.flatten()], colors=['red', 'blue'])\n",
    "plt.ylim(-1, 1)\n",
    "plt.xlim(-1, 2)\n",
    "plotVectors([u2.flatten(), Bu2.flatten()], colors=['green', 'orange'])\n",
    "# Limit range of axes\n",
    "plt.ylim(-4, 2)\n",
    "plt.xlim(-1, 3)"
   ]
  },
  {
   "cell_type": "markdown",
   "metadata": {},
   "source": [
    "The blue arrow in the above plot is associated with the expression $\\mathbf{B}\\mathbf{u}_1 = \\lambda_1 \\mathbf{u}_1$, where the printed diagonal $\\Lambda$ above shows that $\\lambda_1 = 0.30277564$ is a positive eigenvalue. This is why the vectors are in the same direction."
   ]
  },
  {
   "cell_type": "markdown",
   "metadata": {},
   "source": [
    "## Singular Value Decomposition (SVD)"
   ]
  },
  {
   "cell_type": "markdown",
   "metadata": {},
   "source": [
    "We can also decompose a non-square matrix $\\mathbf{A} \\in \\mathbb{R}^{m \\times n}$ using SVD, which generalizes EVD to rectangular matrices."
   ]
  },
  {
   "cell_type": "markdown",
   "metadata": {},
   "source": [
    "### Example and Code\n",
    "Take the following matrix:\n",
    "\n",
    "\\begin{equation}\n",
    "\\mathbf{A} = \n",
    "\\begin{bmatrix}\n",
    "3 & 2 & 2 \\\\\n",
    "2 & 3 & -2\n",
    "\\end{bmatrix}\n",
    "\\end{equation}"
   ]
  },
  {
   "cell_type": "markdown",
   "metadata": {},
   "source": [
    "Import corresponding `linalg.svd` function and compute singular values (denoted $\\sigma$) and singular vectors:"
   ]
  },
  {
   "cell_type": "code",
   "execution_count": 11,
   "metadata": {},
   "outputs": [
    {
     "name": "stdout",
     "output_type": "stream",
     "text": [
      "A: [[ 3  2  2]\n",
      " [ 2  3 -2]]\n",
      "Left singular vectors: [[ 0.70710678 -0.70710678]\n",
      " [ 0.70710678  0.70710678]]\n",
      "Singular values: [5. 3.]\n",
      "Right singular vectors: [[ 0.70710678  0.70710678  0.        ]\n",
      " [-0.23570226  0.23570226 -0.94280904]\n",
      " [-0.66666667  0.66666667  0.33333333]]\n"
     ]
    }
   ],
   "source": [
    "from numpy.linalg import svd\n",
    "\n",
    "A = np.array([[3, 2, 2],\n",
    "              [2, 3, -2]])\n",
    "print(\"A:\", A)\n",
    "\n",
    "u, s, v = svd(A)\n",
    "print(\"Left singular vectors:\", u)\n",
    "print(\"Singular values:\", s)\n",
    "print(\"Right singular vectors:\", v)"
   ]
  },
  {
   "cell_type": "markdown",
   "metadata": {},
   "source": [
    "Writing the SVD of $\\mathbf{A} = \\mathbf{U}\\mathbf{S}\\mathbf{V}^\\intercal =$ in matrix form, where generally the columns of $\\mathbf{U} \\in \\mathbb{R}^{m \\times m}$ are the left singular vectors, $\\mathbf{S} = \\text{diag}(\\sigma_1, ... \\sigma_r) \\in \\mathbb{R}^{m \\times n} $ are the $r = \\text{min}(m, n)$ singular values on the main diagonal, and the columns of $\\mathbf{V} \\in \\mathbb{R}^{n \\times n}$ are the right singular vectors.\n",
    "\n",
    "Therefore based on our code results, the full SVD for the specific example of $\\mathbf{A}$ is:\n",
    "\n",
    "\\begin{equation}\n",
    "\\mathbf{A} = \\mathbf{U}\\mathbf{S}\\mathbf{V}^\\intercal =\n",
    "    \\begin{bmatrix}\n",
    "    \\frac{1}{\\sqrt{2}} & -\\frac{1}{\\sqrt{2}} \\\\ \\frac{1}{\\sqrt{2}} & \\frac{1}{\\sqrt{2}} \n",
    "    \\end{bmatrix}\n",
    "    \\begin{bmatrix}\n",
    "    5 & 0 & 0 \\\\ 0 & 3 & 0\n",
    "    \\end{bmatrix}\n",
    "    \\begin{bmatrix}\n",
    "    \\frac{1}{\\sqrt{2}} & \\frac{1}{\\sqrt{2}} & 0 \\\\\n",
    "    -\\frac{1}{\\sqrt{18}} & \\frac{1}{\\sqrt{18}} & -\\frac{4}{\\sqrt{18}} \\\\\n",
    "    -\\frac{2}{3} & \\frac{2}{3} & \\frac{1}{3}\n",
    "    \\end{bmatrix}\n",
    "\\end{equation}"
   ]
  },
  {
   "cell_type": "markdown",
   "metadata": {},
   "source": [
    "In the NumPy description of what `linalg.svd` returns, observe that the singular values of the \"s(…, K)\" array are sorted in decreasing order. This is fairly conventional for SVD, but not necessary in EVD."
   ]
  },
  {
   "cell_type": "markdown",
   "metadata": {},
   "source": [
    "## References\n",
    "\n",
    "Code adapted from:\n",
    "\n",
    "https://hadrienj.github.io/posts/Deep-Learning-Book-Series-2.7-Eigendecomposition/"
   ]
  }
 ],
 "metadata": {
  "kernelspec": {
   "display_name": "Python 3",
   "language": "python",
   "name": "python3"
  },
  "language_info": {
   "codemirror_mode": {
    "name": "ipython",
    "version": 3
   },
   "file_extension": ".py",
   "mimetype": "text/x-python",
   "name": "python",
   "nbconvert_exporter": "python",
   "pygments_lexer": "ipython3",
   "version": "3.8.5"
  }
 },
 "nbformat": 4,
 "nbformat_minor": 4
}
