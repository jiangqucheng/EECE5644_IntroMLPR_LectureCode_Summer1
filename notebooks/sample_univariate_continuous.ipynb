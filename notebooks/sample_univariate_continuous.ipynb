{
 "cells": [
  {
   "cell_type": "markdown",
   "metadata": {},
   "source": [
    "# Sampling Continuous Univariate Distributions"
   ]
  },
  {
   "cell_type": "markdown",
   "metadata": {},
   "source": [
    "In this notebook, we'll look at how to sample from two different continuous univariate distributions using the SciPy library, notably the `scipy.stats` module. SciPy builds on NumPy, with more sophisticated functionality for statistics, linear algebra, etc. but at slower computational speed (e.g. for basic algorithms like sorting).  \n",
    "\n",
    "The two distributions examined are for uniform and normal (Gaussian) random variables.\n",
    "\n",
    "Before proceeding, let's import the necessary modules for this notebook:"
   ]
  },
  {
   "cell_type": "code",
   "execution_count": 1,
   "metadata": {},
   "outputs": [],
   "source": [
    "import matplotlib.pyplot as plt # For general plotting\n",
    "import numpy as np\n",
    "from scipy.stats import norm, uniform\n",
    "\n",
    "# Set seed to generate reproducible \"pseudo-randomness\" (handles scipy's \"randomness\" too)\n",
    "np.random.seed(7)\n",
    "\n",
    "# Number of samples to draw from each distribution\n",
    "N = 1000"
   ]
  },
  {
   "cell_type": "markdown",
   "metadata": {},
   "source": [
    "## Uniform Distribution"
   ]
  },
  {
   "cell_type": "markdown",
   "metadata": {},
   "source": [
    "The uniform distribution has the following probability density function (PDF):\n",
    "\\begin{equation}\n",
    "X \\sim \\text{Uniform}(a, b) \\quad p_X(x) = \\begin{cases}\n",
    "  \\displaystyle \\frac{1}{b-a} & \\text{for} \\, x \\in [a,b] \\\\\n",
    "  0 & \\text{otherwise}\n",
    "\\end{cases}\n",
    "\\end{equation}"
   ]
  },
  {
   "cell_type": "markdown",
   "metadata": {},
   "source": [
    "Draw $N=1000$ samples from three different univariate uniform distributions to illustrate the effect on the PDF of parameters $a$ and $b$:\n",
    "\n",
    "\\begin{equation}\n",
    "X_1 \\sim \\text{Uniform}(1, 5)\n",
    "\\end{equation}\n",
    "\\begin{equation}\n",
    "X_2 \\sim \\text{Uniform}(5, 10)\n",
    "\\end{equation}\n",
    "\\begin{equation}\n",
    "X_3 \\sim \\text{Uniform}(-10, -3)\n",
    "\\end{equation}"
   ]
  },
  {
   "cell_type": "markdown",
   "metadata": {},
   "source": [
    "Reminder that we cannot draw exact probabilities from continuous random variables, and instead evaluate intervals. Therefore, we will first reate evenly spaced numbers to partition the sample space of each distribution into intervals. We'll use the same $x$ set of values to define all three PDFs (making sure they cover the full range):"
   ]
  },
  {
   "cell_type": "code",
   "execution_count": 2,
   "metadata": {},
   "outputs": [],
   "source": [
    "x = np.linspace(start=-20, stop=20, num=N)"
   ]
  },
  {
   "cell_type": "markdown",
   "metadata": {},
   "source": [
    "Then compute the uniform density functions for these three distributions, using SciPy's `stats.uniform` object. Note that it takes `loc` and `scale`, which are equivalent to $a$ and $b$ as `[loc, loc+scale]`:"
   ]
  },
  {
   "cell_type": "code",
   "execution_count": 3,
   "metadata": {},
   "outputs": [],
   "source": [
    "p_x1 = uniform.pdf(x, 1, 4)\n",
    "p_x2 = uniform.pdf(x, 5, 5)\n",
    "p_x3 = uniform.pdf(x, -10, 7) # Note the loc+scale, replacing the 'b' parameter"
   ]
  },
  {
   "cell_type": "code",
   "execution_count": 4,
   "metadata": {},
   "outputs": [
    {
     "data": {
      "image/png": "[encoded data removed]",
      "text/plain": [
       "<Figure size 432x288 with 1 Axes>"
      ]
     },
     "metadata": {
      "needs_background": "light"
     },
     "output_type": "display_data"
    }
   ],
   "source": [
    "plt.plot(x, p_x1, label='X1')\n",
    "plt.plot(x, p_x2, label='X2')\n",
    "plt.plot(x, p_x3, label='X3')\n",
    "\n",
    "# Add labels\n",
    "plt.xlabel(\"x\")\n",
    "plt.ylabel(\"p(X=x)\")\n",
    " \n",
    "plt.legend()\n",
    "plt.show()"
   ]
  },
  {
   "cell_type": "markdown",
   "metadata": {},
   "source": [
    "## Normal Distribution"
   ]
  },
  {
   "cell_type": "markdown",
   "metadata": {},
   "source": [
    "The normal uniform distribution has the following PDF:\n",
    "\\begin{equation}\n",
    "X \\sim \\mathcal{N}(\\mu, \\sigma^2) \\quad p_X(x) = \n",
    "  \\displaystyle \\frac{1}{\\sigma \\sqrt{2\\pi}} e^{-\\frac{(x-\\mu)^2}{2\\sigma^2}}\n",
    "\\end{equation}"
   ]
  },
  {
   "cell_type": "markdown",
   "metadata": {},
   "source": [
    "Let's now draw $N=1000$ samples from four different univariate Gaussian (normal) distributions to illustrate the effect of parameters $\\mu$ and $\\sigma^2$:\n",
    "\n",
    "\\begin{equation}\n",
    "X_1 \\sim N(0, 0.2)\n",
    "\\end{equation}\n",
    "\\begin{equation}\n",
    "X_2 \\sim N(0, 5)\n",
    "\\end{equation}\n",
    "\\begin{equation}\n",
    "X_3 \\sim N(-2, 0.5)\n",
    "\\end{equation}\n",
    "\\begin{equation}\n",
    "Z \\sim N(0, 1)\n",
    "\\end{equation}\n",
    "\n",
    "Last random variable, $Z$, is a special case known as the standard normal distribution, where the mean is 0 and the standard deviation is 1."
   ]
  },
  {
   "cell_type": "markdown",
   "metadata": {},
   "source": [
    "Again define a set of $x$ values to span the space of all four distributions."
   ]
  },
  {
   "cell_type": "code",
   "execution_count": 5,
   "metadata": {},
   "outputs": [],
   "source": [
    "x = np.linspace(start=-15, stop=15, num=N)"
   ]
  },
  {
   "cell_type": "markdown",
   "metadata": {},
   "source": [
    "Similarly to before, compute the corresponding four normal density functions, now using SciPy's  `stats.norm` object. Note that it similarly takes `loc` and `scale`, however these parameters now represent $mu$ and $\\sigma$, respectively."
   ]
  },
  {
   "cell_type": "code",
   "execution_count": 6,
   "metadata": {},
   "outputs": [],
   "source": [
    "p_x1 = norm.pdf(x, 0, 0.2**0.5) # Note I'm providing std. dev. NOT variance\n",
    "p_x2 = norm.pdf(x, 0, 5**0.5) # Hence the ^0.5 written as **5 in Python\n",
    "p_x3 = norm.pdf(x, -2, 0.5**0.5) \n",
    "p_z = norm.pdf(x, 0, 1)"
   ]
  },
  {
   "cell_type": "code",
   "execution_count": 7,
   "metadata": {},
   "outputs": [
    {
     "data": {
      "image/png": "[encoded data removed]",
      "text/plain": [
       "<Figure size 432x288 with 1 Axes>"
      ]
     },
     "metadata": {
      "needs_background": "light"
     },
     "output_type": "display_data"
    }
   ],
   "source": [
    "plt.plot(x, p_x1, label='X1')\n",
    "plt.plot(x, p_x2, label='X2')\n",
    "plt.plot(x, p_x3, label='X3')\n",
    "plt.plot(x, p_z, label='Z')\n",
    "\n",
    "# Add labels\n",
    "plt.xlabel(\"x\")\n",
    "plt.ylabel(\"p(x)\")\n",
    " \n",
    "plt.legend()\n",
    "plt.show()"
   ]
  }
 ],
 "metadata": {
  "kernelspec": {
   "display_name": "Python 3",
   "language": "python",
   "name": "python3"
  },
  "language_info": {
   "codemirror_mode": {
    "name": "ipython",
    "version": 3
   },
   "file_extension": ".py",
   "mimetype": "text/x-python",
   "name": "python",
   "nbconvert_exporter": "python",
   "pygments_lexer": "ipython3",
   "version": "3.8.5"
  }
 },
 "nbformat": 4,
 "nbformat_minor": 4
}
